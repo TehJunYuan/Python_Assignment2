{
 "cells": [
  {
   "cell_type": "code",
   "execution_count": 1,
   "metadata": {},
   "outputs": [
    {
     "data": {
      "text/html": [
       "<div>\n",
       "<style scoped>\n",
       "    .dataframe tbody tr th:only-of-type {\n",
       "        vertical-align: middle;\n",
       "    }\n",
       "\n",
       "    .dataframe tbody tr th {\n",
       "        vertical-align: top;\n",
       "    }\n",
       "\n",
       "    .dataframe thead th {\n",
       "        text-align: right;\n",
       "    }\n",
       "</style>\n",
       "<table border=\"1\" class=\"dataframe\">\n",
       "  <thead>\n",
       "    <tr style=\"text-align: right;\">\n",
       "      <th></th>\n",
       "      <th>Page Views</th>\n",
       "      <th>Session Duration</th>\n",
       "      <th>Bounce Rate</th>\n",
       "      <th>Traffic Source</th>\n",
       "      <th>Time on Page</th>\n",
       "      <th>Previous Visits</th>\n",
       "      <th>Conversion Rate</th>\n",
       "    </tr>\n",
       "  </thead>\n",
       "  <tbody>\n",
       "    <tr>\n",
       "      <th>0</th>\n",
       "      <td>5</td>\n",
       "      <td>11.051381</td>\n",
       "      <td>0.230652</td>\n",
       "      <td>Organic</td>\n",
       "      <td>3.890460</td>\n",
       "      <td>3</td>\n",
       "      <td>1.0</td>\n",
       "    </tr>\n",
       "    <tr>\n",
       "      <th>1</th>\n",
       "      <td>4</td>\n",
       "      <td>3.429316</td>\n",
       "      <td>0.391001</td>\n",
       "      <td>Social</td>\n",
       "      <td>8.478174</td>\n",
       "      <td>0</td>\n",
       "      <td>1.0</td>\n",
       "    </tr>\n",
       "    <tr>\n",
       "      <th>2</th>\n",
       "      <td>4</td>\n",
       "      <td>1.621052</td>\n",
       "      <td>0.397986</td>\n",
       "      <td>Organic</td>\n",
       "      <td>9.636170</td>\n",
       "      <td>2</td>\n",
       "      <td>1.0</td>\n",
       "    </tr>\n",
       "    <tr>\n",
       "      <th>3</th>\n",
       "      <td>5</td>\n",
       "      <td>3.629279</td>\n",
       "      <td>0.180458</td>\n",
       "      <td>Organic</td>\n",
       "      <td>2.071925</td>\n",
       "      <td>3</td>\n",
       "      <td>1.0</td>\n",
       "    </tr>\n",
       "    <tr>\n",
       "      <th>4</th>\n",
       "      <td>5</td>\n",
       "      <td>4.235843</td>\n",
       "      <td>0.291541</td>\n",
       "      <td>Paid</td>\n",
       "      <td>1.960654</td>\n",
       "      <td>5</td>\n",
       "      <td>1.0</td>\n",
       "    </tr>\n",
       "    <tr>\n",
       "      <th>...</th>\n",
       "      <td>...</td>\n",
       "      <td>...</td>\n",
       "      <td>...</td>\n",
       "      <td>...</td>\n",
       "      <td>...</td>\n",
       "      <td>...</td>\n",
       "      <td>...</td>\n",
       "    </tr>\n",
       "    <tr>\n",
       "      <th>1995</th>\n",
       "      <td>1</td>\n",
       "      <td>2.724513</td>\n",
       "      <td>0.207187</td>\n",
       "      <td>Referral</td>\n",
       "      <td>1.324206</td>\n",
       "      <td>2</td>\n",
       "      <td>1.0</td>\n",
       "    </tr>\n",
       "    <tr>\n",
       "      <th>1996</th>\n",
       "      <td>3</td>\n",
       "      <td>0.392856</td>\n",
       "      <td>0.095559</td>\n",
       "      <td>Organic</td>\n",
       "      <td>3.824416</td>\n",
       "      <td>1</td>\n",
       "      <td>1.0</td>\n",
       "    </tr>\n",
       "    <tr>\n",
       "      <th>1997</th>\n",
       "      <td>4</td>\n",
       "      <td>9.899823</td>\n",
       "      <td>0.446622</td>\n",
       "      <td>Organic</td>\n",
       "      <td>1.288675</td>\n",
       "      <td>1</td>\n",
       "      <td>1.0</td>\n",
       "    </tr>\n",
       "    <tr>\n",
       "      <th>1998</th>\n",
       "      <td>3</td>\n",
       "      <td>0.393319</td>\n",
       "      <td>0.278340</td>\n",
       "      <td>Paid</td>\n",
       "      <td>5.037584</td>\n",
       "      <td>2</td>\n",
       "      <td>1.0</td>\n",
       "    </tr>\n",
       "    <tr>\n",
       "      <th>1999</th>\n",
       "      <td>3</td>\n",
       "      <td>0.882638</td>\n",
       "      <td>0.338026</td>\n",
       "      <td>Direct</td>\n",
       "      <td>5.186908</td>\n",
       "      <td>3</td>\n",
       "      <td>1.0</td>\n",
       "    </tr>\n",
       "  </tbody>\n",
       "</table>\n",
       "<p>2000 rows × 7 columns</p>\n",
       "</div>"
      ],
      "text/plain": [
       "      Page Views  Session Duration  Bounce Rate Traffic Source  Time on Page  \\\n",
       "0              5         11.051381     0.230652        Organic      3.890460   \n",
       "1              4          3.429316     0.391001         Social      8.478174   \n",
       "2              4          1.621052     0.397986        Organic      9.636170   \n",
       "3              5          3.629279     0.180458        Organic      2.071925   \n",
       "4              5          4.235843     0.291541           Paid      1.960654   \n",
       "...          ...               ...          ...            ...           ...   \n",
       "1995           1          2.724513     0.207187       Referral      1.324206   \n",
       "1996           3          0.392856     0.095559        Organic      3.824416   \n",
       "1997           4          9.899823     0.446622        Organic      1.288675   \n",
       "1998           3          0.393319     0.278340           Paid      5.037584   \n",
       "1999           3          0.882638     0.338026         Direct      5.186908   \n",
       "\n",
       "      Previous Visits  Conversion Rate  \n",
       "0                   3              1.0  \n",
       "1                   0              1.0  \n",
       "2                   2              1.0  \n",
       "3                   3              1.0  \n",
       "4                   5              1.0  \n",
       "...               ...              ...  \n",
       "1995                2              1.0  \n",
       "1996                1              1.0  \n",
       "1997                1              1.0  \n",
       "1998                2              1.0  \n",
       "1999                3              1.0  \n",
       "\n",
       "[2000 rows x 7 columns]"
      ]
     },
     "execution_count": 1,
     "metadata": {},
     "output_type": "execute_result"
    }
   ],
   "source": [
    "import pandas as pd\n",
    "\n",
    "website_traffic  = pd.read_csv('website_traffic.csv')\n",
    "website_traffic "
   ]
  },
  {
   "cell_type": "code",
   "execution_count": 2,
   "metadata": {},
   "outputs": [
    {
     "name": "stdout",
     "output_type": "stream",
     "text": [
      "Correlation DataFrame:\n"
     ]
    },
    {
     "data": {
      "text/html": [
       "<div>\n",
       "<style scoped>\n",
       "    .dataframe tbody tr th:only-of-type {\n",
       "        vertical-align: middle;\n",
       "    }\n",
       "\n",
       "    .dataframe tbody tr th {\n",
       "        vertical-align: top;\n",
       "    }\n",
       "\n",
       "    .dataframe thead th {\n",
       "        text-align: right;\n",
       "    }\n",
       "</style>\n",
       "<table border=\"1\" class=\"dataframe\">\n",
       "  <thead>\n",
       "    <tr style=\"text-align: right;\">\n",
       "      <th></th>\n",
       "      <th>Page Views</th>\n",
       "      <th>Session Duration</th>\n",
       "      <th>Bounce Rate</th>\n",
       "      <th>Time on Page</th>\n",
       "      <th>Previous Visits</th>\n",
       "      <th>Conversion Rate</th>\n",
       "    </tr>\n",
       "  </thead>\n",
       "  <tbody>\n",
       "    <tr>\n",
       "      <th>Page Views</th>\n",
       "      <td>1.000000</td>\n",
       "      <td>-0.012788</td>\n",
       "      <td>0.030223</td>\n",
       "      <td>0.023941</td>\n",
       "      <td>0.028595</td>\n",
       "      <td>0.126635</td>\n",
       "    </tr>\n",
       "    <tr>\n",
       "      <th>Session Duration</th>\n",
       "      <td>-0.012788</td>\n",
       "      <td>1.000000</td>\n",
       "      <td>-0.015931</td>\n",
       "      <td>-0.013985</td>\n",
       "      <td>-0.025534</td>\n",
       "      <td>0.177798</td>\n",
       "    </tr>\n",
       "    <tr>\n",
       "      <th>Bounce Rate</th>\n",
       "      <td>0.030223</td>\n",
       "      <td>-0.015931</td>\n",
       "      <td>1.000000</td>\n",
       "      <td>0.039340</td>\n",
       "      <td>-0.015860</td>\n",
       "      <td>-0.049051</td>\n",
       "    </tr>\n",
       "    <tr>\n",
       "      <th>Time on Page</th>\n",
       "      <td>0.023941</td>\n",
       "      <td>-0.013985</td>\n",
       "      <td>0.039340</td>\n",
       "      <td>1.000000</td>\n",
       "      <td>-0.028729</td>\n",
       "      <td>0.229669</td>\n",
       "    </tr>\n",
       "    <tr>\n",
       "      <th>Previous Visits</th>\n",
       "      <td>0.028595</td>\n",
       "      <td>-0.025534</td>\n",
       "      <td>-0.015860</td>\n",
       "      <td>-0.028729</td>\n",
       "      <td>1.000000</td>\n",
       "      <td>0.109496</td>\n",
       "    </tr>\n",
       "    <tr>\n",
       "      <th>Conversion Rate</th>\n",
       "      <td>0.126635</td>\n",
       "      <td>0.177798</td>\n",
       "      <td>-0.049051</td>\n",
       "      <td>0.229669</td>\n",
       "      <td>0.109496</td>\n",
       "      <td>1.000000</td>\n",
       "    </tr>\n",
       "  </tbody>\n",
       "</table>\n",
       "</div>"
      ],
      "text/plain": [
       "                  Page Views  Session Duration  Bounce Rate  Time on Page  \\\n",
       "Page Views          1.000000         -0.012788     0.030223      0.023941   \n",
       "Session Duration   -0.012788          1.000000    -0.015931     -0.013985   \n",
       "Bounce Rate         0.030223         -0.015931     1.000000      0.039340   \n",
       "Time on Page        0.023941         -0.013985     0.039340      1.000000   \n",
       "Previous Visits     0.028595         -0.025534    -0.015860     -0.028729   \n",
       "Conversion Rate     0.126635          0.177798    -0.049051      0.229669   \n",
       "\n",
       "                  Previous Visits  Conversion Rate  \n",
       "Page Views               0.028595         0.126635  \n",
       "Session Duration        -0.025534         0.177798  \n",
       "Bounce Rate             -0.015860        -0.049051  \n",
       "Time on Page            -0.028729         0.229669  \n",
       "Previous Visits          1.000000         0.109496  \n",
       "Conversion Rate          0.109496         1.000000  "
      ]
     },
     "execution_count": 2,
     "metadata": {},
     "output_type": "execute_result"
    }
   ],
   "source": [
    "correlation = website_traffic.corr(numeric_only=True)\n",
    "print(\"Correlation DataFrame:\")\n",
    "correlation"
   ]
  },
  {
   "cell_type": "code",
   "execution_count": 3,
   "metadata": {},
   "outputs": [
    {
     "name": "stdout",
     "output_type": "stream",
     "text": [
      "Features with positive correlation to 'Conversion Rate':\n"
     ]
    },
    {
     "data": {
      "text/html": [
       "<div>\n",
       "<style scoped>\n",
       "    .dataframe tbody tr th:only-of-type {\n",
       "        vertical-align: middle;\n",
       "    }\n",
       "\n",
       "    .dataframe tbody tr th {\n",
       "        vertical-align: top;\n",
       "    }\n",
       "\n",
       "    .dataframe thead th {\n",
       "        text-align: right;\n",
       "    }\n",
       "</style>\n",
       "<table border=\"1\" class=\"dataframe\">\n",
       "  <thead>\n",
       "    <tr style=\"text-align: right;\">\n",
       "      <th></th>\n",
       "      <th>Feature</th>\n",
       "      <th>Correlation with Conversion Rate</th>\n",
       "    </tr>\n",
       "  </thead>\n",
       "  <tbody>\n",
       "    <tr>\n",
       "      <th>0</th>\n",
       "      <td>Page Views</td>\n",
       "      <td>0.126635</td>\n",
       "    </tr>\n",
       "    <tr>\n",
       "      <th>1</th>\n",
       "      <td>Session Duration</td>\n",
       "      <td>0.177798</td>\n",
       "    </tr>\n",
       "    <tr>\n",
       "      <th>2</th>\n",
       "      <td>Time on Page</td>\n",
       "      <td>0.229669</td>\n",
       "    </tr>\n",
       "    <tr>\n",
       "      <th>3</th>\n",
       "      <td>Previous Visits</td>\n",
       "      <td>0.109496</td>\n",
       "    </tr>\n",
       "    <tr>\n",
       "      <th>4</th>\n",
       "      <td>Conversion Rate</td>\n",
       "      <td>1.000000</td>\n",
       "    </tr>\n",
       "  </tbody>\n",
       "</table>\n",
       "</div>"
      ],
      "text/plain": [
       "            Feature  Correlation with Conversion Rate\n",
       "0        Page Views                          0.126635\n",
       "1  Session Duration                          0.177798\n",
       "2      Time on Page                          0.229669\n",
       "3   Previous Visits                          0.109496\n",
       "4   Conversion Rate                          1.000000"
      ]
     },
     "execution_count": 3,
     "metadata": {},
     "output_type": "execute_result"
    }
   ],
   "source": [
    "positive_corr = correlation['Conversion Rate'][correlation['Conversion Rate'] > 0]\n",
    "positive_corr_df = pd.DataFrame(positive_corr).reset_index()\n",
    "positive_corr_df.columns = ['Feature', 'Correlation with Conversion Rate']\n",
    "print(\"Features with positive correlation to 'Conversion Rate':\")\n",
    "positive_corr_df"
   ]
  },
  {
   "cell_type": "code",
   "execution_count": 5,
   "metadata": {},
   "outputs": [],
   "source": [
    "target_variable = 'Conversion Rate'"
   ]
  },
  {
   "cell_type": "code",
   "execution_count": 7,
   "metadata": {},
   "outputs": [],
   "source": [
    "from sklearn.model_selection import train_test_split\n",
    "\n",
    "features = positive_corr_df['Feature'].tolist()  # 选择正相关的特征作为预测因子\n",
    "X = website_traffic[features].drop(columns=[target_variable])  # 自变量\n",
    "y = website_traffic[target_variable]  # 目标变量\n",
    "\n",
    "X_train, X_test, y_train, y_test = train_test_split(X, y, test_size=0.2, random_state=42)"
   ]
  },
  {
   "cell_type": "code",
   "execution_count": 8,
   "metadata": {},
   "outputs": [
    {
     "name": "stdout",
     "output_type": "stream",
     "text": [
      "Mean Absolute Error (MAE): 0.03169167945402102\n"
     ]
    }
   ],
   "source": [
    "from sklearn.linear_model import LinearRegression\n",
    "from sklearn.metrics import mean_absolute_error\n",
    "\n",
    "model = LinearRegression()\n",
    "model.fit(X_train, y_train)\n",
    "y_pred = model.predict(X_test)\n",
    "mae = mean_absolute_error(y_test, y_pred)\n",
    "print(f\"Mean Absolute Error (MAE): {mae}\")"
   ]
  },
  {
   "cell_type": "code",
   "execution_count": 9,
   "metadata": {},
   "outputs": [
    {
     "name": "stdout",
     "output_type": "stream",
     "text": [
      "MAE Analysis: The MAE of 0.03169167945402102 suggests the average absolute error between the predicted and actual Conversion Rates.\n"
     ]
    }
   ],
   "source": [
    "print(f\"MAE Analysis: The MAE of {mae} suggests the average absolute error between the predicted and actual Conversion Rates.\")"
   ]
  },
  {
   "cell_type": "markdown",
   "metadata": {},
   "source": [
    "MAE Analysis: The MAE value is mae, indicating that the average absolute error between the predicted conversion rate and the actual conversion rate is this value. "
   ]
  },
  {
   "cell_type": "code",
   "execution_count": 10,
   "metadata": {},
   "outputs": [
    {
     "name": "stderr",
     "output_type": "stream",
     "text": [
      "/Library/Frameworks/Python.framework/Versions/3.11/lib/python3.11/site-packages/sklearn/cluster/_kmeans.py:1416: FutureWarning: The default value of `n_init` will change from 10 to 'auto' in 1.4. Set the value of `n_init` explicitly to suppress the warning\n",
      "  super()._check_params_vs_input(X, default_n_init=10)\n",
      "/Library/Frameworks/Python.framework/Versions/3.11/lib/python3.11/site-packages/sklearn/cluster/_kmeans.py:1416: FutureWarning: The default value of `n_init` will change from 10 to 'auto' in 1.4. Set the value of `n_init` explicitly to suppress the warning\n",
      "  super()._check_params_vs_input(X, default_n_init=10)\n",
      "/Library/Frameworks/Python.framework/Versions/3.11/lib/python3.11/site-packages/sklearn/cluster/_kmeans.py:1416: FutureWarning: The default value of `n_init` will change from 10 to 'auto' in 1.4. Set the value of `n_init` explicitly to suppress the warning\n",
      "  super()._check_params_vs_input(X, default_n_init=10)\n",
      "/Library/Frameworks/Python.framework/Versions/3.11/lib/python3.11/site-packages/sklearn/cluster/_kmeans.py:1416: FutureWarning: The default value of `n_init` will change from 10 to 'auto' in 1.4. Set the value of `n_init` explicitly to suppress the warning\n",
      "  super()._check_params_vs_input(X, default_n_init=10)\n",
      "/Library/Frameworks/Python.framework/Versions/3.11/lib/python3.11/site-packages/sklearn/cluster/_kmeans.py:1416: FutureWarning: The default value of `n_init` will change from 10 to 'auto' in 1.4. Set the value of `n_init` explicitly to suppress the warning\n",
      "  super()._check_params_vs_input(X, default_n_init=10)\n",
      "/Library/Frameworks/Python.framework/Versions/3.11/lib/python3.11/site-packages/sklearn/cluster/_kmeans.py:1416: FutureWarning: The default value of `n_init` will change from 10 to 'auto' in 1.4. Set the value of `n_init` explicitly to suppress the warning\n",
      "  super()._check_params_vs_input(X, default_n_init=10)\n",
      "/Library/Frameworks/Python.framework/Versions/3.11/lib/python3.11/site-packages/sklearn/cluster/_kmeans.py:1416: FutureWarning: The default value of `n_init` will change from 10 to 'auto' in 1.4. Set the value of `n_init` explicitly to suppress the warning\n",
      "  super()._check_params_vs_input(X, default_n_init=10)\n",
      "/Library/Frameworks/Python.framework/Versions/3.11/lib/python3.11/site-packages/sklearn/cluster/_kmeans.py:1416: FutureWarning: The default value of `n_init` will change from 10 to 'auto' in 1.4. Set the value of `n_init` explicitly to suppress the warning\n",
      "  super()._check_params_vs_input(X, default_n_init=10)\n",
      "/Library/Frameworks/Python.framework/Versions/3.11/lib/python3.11/site-packages/sklearn/cluster/_kmeans.py:1416: FutureWarning: The default value of `n_init` will change from 10 to 'auto' in 1.4. Set the value of `n_init` explicitly to suppress the warning\n",
      "  super()._check_params_vs_input(X, default_n_init=10)\n"
     ]
    },
    {
     "data": {
      "image/png": "[encoded data removed]",
      "text/plain": [
       "<Figure size 800x600 with 1 Axes>"
      ]
     },
     "metadata": {},
     "output_type": "display_data"
    }
   ],
   "source": [
    "from sklearn.cluster import KMeans\n",
    "import matplotlib.pyplot as plt\n",
    "\n",
    "inertia = []\n",
    "K = range(1, 10)\n",
    "for k in K:\n",
    "    kmeans = KMeans(n_clusters=k, random_state=42)\n",
    "    kmeans.fit(X)\n",
    "    inertia.append(kmeans.inertia_)\n",
    "\n",
    "plt.figure(figsize=(8, 6))\n",
    "plt.plot(K, inertia, 'bx-')\n",
    "plt.xlabel('Number of clusters')\n",
    "plt.ylabel('Inertia')\n",
    "plt.title('Elbow Method for Optimal Number of Clusters')\n",
    "plt.show()"
   ]
  },
  {
   "cell_type": "code",
   "execution_count": 11,
   "metadata": {},
   "outputs": [
    {
     "name": "stderr",
     "output_type": "stream",
     "text": [
      "/Library/Frameworks/Python.framework/Versions/3.11/lib/python3.11/site-packages/sklearn/cluster/_kmeans.py:1416: FutureWarning: The default value of `n_init` will change from 10 to 'auto' in 1.4. Set the value of `n_init` explicitly to suppress the warning\n",
      "  super()._check_params_vs_input(X, default_n_init=10)\n"
     ]
    },
    {
     "data": {
      "text/plain": [
       "array([2, 1, 1, ..., 2, 0, 0], dtype=int32)"
      ]
     },
     "execution_count": 11,
     "metadata": {},
     "output_type": "execute_result"
    }
   ],
   "source": [
    "optimal_k = 3  # 假设我们通过肘部法则确定了3个是最佳聚类数\n",
    "kmeans = KMeans(n_clusters=optimal_k, random_state=42)\n",
    "clusters = kmeans.fit_predict(X)\n",
    "clusters"
   ]
  },
  {
   "cell_type": "code",
   "execution_count": 12,
   "metadata": {},
   "outputs": [
    {
     "name": "stdout",
     "output_type": "stream",
     "text": [
      "Mean values for each cluster:\n"
     ]
    },
    {
     "data": {
      "text/html": [
       "<div>\n",
       "<style scoped>\n",
       "    .dataframe tbody tr th:only-of-type {\n",
       "        vertical-align: middle;\n",
       "    }\n",
       "\n",
       "    .dataframe tbody tr th {\n",
       "        vertical-align: top;\n",
       "    }\n",
       "\n",
       "    .dataframe thead th {\n",
       "        text-align: right;\n",
       "    }\n",
       "</style>\n",
       "<table border=\"1\" class=\"dataframe\">\n",
       "  <thead>\n",
       "    <tr style=\"text-align: right;\">\n",
       "      <th></th>\n",
       "      <th>Page Views</th>\n",
       "      <th>Session Duration</th>\n",
       "      <th>Time on Page</th>\n",
       "      <th>Previous Visits</th>\n",
       "    </tr>\n",
       "    <tr>\n",
       "      <th>Cluster</th>\n",
       "      <th></th>\n",
       "      <th></th>\n",
       "      <th></th>\n",
       "      <th></th>\n",
       "    </tr>\n",
       "  </thead>\n",
       "  <tbody>\n",
       "    <tr>\n",
       "      <th>0</th>\n",
       "      <td>4.936482</td>\n",
       "      <td>1.839931</td>\n",
       "      <td>2.674633</td>\n",
       "      <td>2.022801</td>\n",
       "    </tr>\n",
       "    <tr>\n",
       "      <th>1</th>\n",
       "      <td>5.053691</td>\n",
       "      <td>2.187004</td>\n",
       "      <td>8.218994</td>\n",
       "      <td>1.955257</td>\n",
       "    </tr>\n",
       "    <tr>\n",
       "      <th>2</th>\n",
       "      <td>4.861538</td>\n",
       "      <td>8.637118</td>\n",
       "      <td>3.373963</td>\n",
       "      <td>1.843077</td>\n",
       "    </tr>\n",
       "  </tbody>\n",
       "</table>\n",
       "</div>"
      ],
      "text/plain": [
       "         Page Views  Session Duration  Time on Page  Previous Visits\n",
       "Cluster                                                             \n",
       "0          4.936482          1.839931      2.674633         2.022801\n",
       "1          5.053691          2.187004      8.218994         1.955257\n",
       "2          4.861538          8.637118      3.373963         1.843077"
      ]
     },
     "execution_count": 12,
     "metadata": {},
     "output_type": "execute_result"
    }
   ],
   "source": [
    "clustered_data = pd.concat([X, pd.DataFrame(clusters, columns=['Cluster'])], axis=1)\n",
    "cluster_means = clustered_data.groupby('Cluster').mean()\n",
    "print(\"Mean values for each cluster:\")\n",
    "cluster_means"
   ]
  },
  {
   "cell_type": "code",
   "execution_count": 13,
   "metadata": {},
   "outputs": [
    {
     "data": {
      "image/png": "[encoded data removed]",
      "text/plain": [
       "<Figure size 1000x800 with 1 Axes>"
      ]
     },
     "metadata": {},
     "output_type": "display_data"
    }
   ],
   "source": [
    "import seaborn as sns\n",
    "plt.figure(figsize=(10, 8))\n",
    "sns.boxplot(x='Cluster', y='Conversion Rate', data=pd.concat([X, pd.DataFrame(y, columns=[target_variable]), pd.DataFrame(clusters, columns=['Cluster'])], axis=1))\n",
    "plt.title('Distribution of Conversion Rate Across Clusters')\n",
    "plt.show()"
   ]
  },
  {
   "cell_type": "markdown",
   "metadata": {},
   "source": [
    "Cluster Analysis:\n",
    "Cluster 0: This cluster exhibits a wide range of conversion rates, with a significant number of data points scattered below the 1.0 mark. The conversion rates in this cluster vary considerably, with many outliers, particularly in the lower range between 0.4 and 0.6. While the median conversion rate appears to be close to 1.0, the spread of the data suggests a high degree of variability within this cluster.\n",
    "\n",
    "Cluster 1: In contrast, Cluster 1 shows very few data points, all of which have conversion rates close to 1.0. There are a couple of minor outliers slightly below this value, but overall, the conversion rates in this cluster are highly consistent and predominantly high\n",
    "\n",
    "Cluster 2: Similar to Cluster 1, Cluster 2 also contains few data points with conversion rates primarily at 1.0. Although there are some minor outliers below this value, the overall distribution is still concentrated at the top end, reflecting high and consistent conversion rates\n",
    "\n",
    "Visualization support\n",
    "By visualizing the distribution of capabilities in special clusters thru boxplot, you can intuitively see which functions have vast differences between one-of-a-kind clusters, thereby helping to further perceive patterns and insights.\n",
    "\n",
    "Patterns and Insights:\n",
    "By observing the distribution of features in each cluster, we can identify which features are driving the conversion rate differences between different clusters. For example, a cluster 0  show a higher conversion rate due to a specific source of visit or higher page views.\n",
    "\n",
    "Summary\n",
    "By comprehensively analyzing MAE and clustering results, we can better understand the patterns and user behaviors in the data, thereby providing data-driven support for optimizing websites and marketing strategies."
   ]
  }
 ],
 "metadata": {
  "kernelspec": {
   "display_name": "Python 3",
   "language": "python",
   "name": "python3"
  },
  "language_info": {
   "codemirror_mode": {
    "name": "ipython",
    "version": 3
   },
   "file_extension": ".py",
   "mimetype": "text/x-python",
   "name": "python",
   "nbconvert_exporter": "python",
   "pygments_lexer": "ipython3",
   "version": "3.11.4"
  }
 },
 "nbformat": 4,
 "nbformat_minor": 2
}
